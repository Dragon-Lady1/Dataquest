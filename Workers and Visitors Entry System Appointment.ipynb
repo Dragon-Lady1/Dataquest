{
 "cells": [
  {
   "cell_type": "markdown",
   "metadata": {},
   "source": [
    "In December 2009, the White House started publishing records of visitors to the White House. Over a seven year span, almost six million visitors record were published. The record contains data from WAVES (Workers and Visitors Entry System) appointment system that is used to make appointments for all White House Visitors, excluding staff members and other people not categorized as visitors. The full set of records can be found on the Obama White House Archives Site but in this mission I worked with a smaller version of the dataset.\n",
    "\n",
    "The purpose of this mission was to calculate the difference between the end_date and the start_date of the meetings in the White House. In order to do this, the string dates were parsed using the daatetime module. After calculating the difference between the dates, the maximum and the mimimum time spent used in a meeting was calculated."
   ]
  },
  {
   "cell_type": "code",
   "execution_count": null,
   "metadata": {},
   "outputs": [],
   "source": [
    "open_file=open('potus_visitors_2015.csv')\n",
    "from csv import reader\n",
    "read_file=reader(open_file)\n",
    "potus=list(read_file)\n",
    "potus=potus[1:]\n",
    "import datetime as dt\n",
    "for items in potus:\n",
    "    date=items[2]\n",
    "    passed_date=dt.datetime.strptime(date,'%m/%d/%y %H:%M')\n",
    "    items[2]=passed_date\n",
    "for items in potus:\n",
    "    second_date=items[3]\n",
    "    second_passed_date=dt.datetime.strptime(second_date,'%m/%d/%y %H:%M')\n",
    "    items[3]=second_passed_date\n",
    "answer=[]\n",
    "for items in potus:\n",
    "    start_date=items[2]\n",
    "    end_date=items[3]\n",
    "    difference_in_date=end_date-start_date\n",
    "    answer.append(difference_in_date)\n",
    "answer_dictionary={}\n",
    "for items in answer:\n",
    "    if items in answer_dictionary:\n",
    "        answer_dictionary[items]+=1\n",
    "    else:\n",
    "        answer_dictionary[items]=1\n",
    "print max(answer_dictionary)\n",
    "print min (answer_dictionary)"
   ]
  },
  {
   "cell_type": "markdown",
   "metadata": {},
   "source": []
  }
 ],
 "metadata": {
  "kernelspec": {
   "display_name": "Python 3",
   "language": "python",
   "name": "python3"
  },
  "language_info": {
   "codemirror_mode": {
    "name": "ipython",
    "version": 3
   },
   "file_extension": ".py",
   "mimetype": "text/x-python",
   "name": "python",
   "nbconvert_exporter": "python",
   "pygments_lexer": "ipython3",
   "version": "3.7.0"
  }
 },
 "nbformat": 4,
 "nbformat_minor": 2
}
