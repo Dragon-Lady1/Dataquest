{
 "cells": [
  {
   "cell_type": "markdown",
   "metadata": {},
   "source": [
    "# HACKER NEWS\n",
    "\n",
    "Hacker News is a site started by the startup incubator Y combinator, where user-submitted stories (known as \"posts\") are voted and commented upon, similar to reddit. Hacker News is extremely popular in technology and startup circles, and posts that make it to the top of Hacker News' lisitngs can get hundreds of thousands of visitors as a result."
   ]
  },
  {
   "cell_type": "markdown",
   "metadata": {},
   "source": [
    "# Opening the dataset\n",
    "I started this project by importing the libraries i needed and reading the data set into a list of list. The length of the dataset 20100. "
   ]
  },
  {
   "cell_type": "code",
   "execution_count": 165,
   "metadata": {},
   "outputs": [
    {
     "data": {
      "text/plain": [
       "20100"
      ]
     },
     "execution_count": 165,
     "metadata": {},
     "output_type": "execute_result"
    }
   ],
   "source": [
    "open_file=open('hacker_news.csv')\n",
    "from csv import reader\n",
    "read_file=reader(open_file)\n",
    "hacker=list(read_file)\n",
    "hacker=hacker[1:]\n",
    "len(hacker)"
   ]
  },
  {
   "cell_type": "markdown",
   "metadata": {},
   "source": [
    "# Selecting the data needed\n",
    "In this project, I was specifically interested in posts whose title begin with either **Ask HN** or **Show HN**. This was because Users submit **Ask HN** could be used to ask the Hacker News community a specific question. An example is \n",
    "**Ask HN**: How to improve my personal website?\n",
    "\n",
    "Likewise, users submit **Show HN** posts to show the Hacker News community a project, product, or just generally something interesting. An example is \n",
    "**Show HN**:Wio Link ESP8266 Based web of Things Hardware Development Platform\n"
   ]
  },
  {
   "cell_type": "code",
   "execution_count": 166,
   "metadata": {},
   "outputs": [
    {
     "name": "stdout",
     "output_type": "stream",
     "text": [
      "1744\n",
      "1162\n",
      "17194\n"
     ]
    }
   ],
   "source": [
    "ask_post=[]\n",
    "show_posts=[]\n",
    "other_posts=[]\n",
    "for items in hacker:\n",
    "    title=items[1]\n",
    "    if title.lower().startswith('ask hn'):\n",
    "        ask_post.append(items)\n",
    "        \n",
    "    elif title.lower().startswith('show hn'):\n",
    "        show_posts.append(items)\n",
    "        \n",
    "    else:\n",
    "        other_posts.append(items)\n",
    "        \n",
    "        \n",
    "print(len(ask_post))\n",
    "print (len(show_posts))\n",
    "print (len(other_posts))"
   ]
  },
  {
   "cell_type": "markdown",
   "metadata": {},
   "source": [
    "# Comparing these two types of posts"
   ]
  },
  {
   "cell_type": "markdown",
   "metadata": {},
   "source": [
    "**Part one**\n",
    "\n",
    "Do **Ask HN** or **Show HN** receive more comments on average?\n",
    "\n",
    "My findings showed that the Ask HN has more average comments than the Show HN. The Ask HN has an average of 14 comments while the Show HN has  an average of 10 comments"
   ]
  },
  {
   "cell_type": "code",
   "execution_count": 167,
   "metadata": {},
   "outputs": [
    {
     "name": "stdout",
     "output_type": "stream",
     "text": [
      "14\n",
      "10\n"
     ]
    }
   ],
   "source": [
    "total_ask_comments=0\n",
    "for items in ask_post:\n",
    "    num_comments=int(items[4])\n",
    "    total_ask_comments+=num_comments\n",
    "avg_ask_comments=total_ask_comments/len(ask_post)\n",
    "print (avg_ask_comments)\n",
    "\n",
    "\n",
    "total_show_comments=0    \n",
    "for items in show_posts:\n",
    "    num_comments=int(items[4])\n",
    "    total_show_comments+=num_comments\n",
    "avg_show_comments=total_show_comments/len(show_posts)\n",
    "print(avg_show_comments)"
   ]
  },
  {
   "cell_type": "markdown",
   "metadata": {},
   "source": [
    "**Part two**\n",
    "\n",
    "In the next step, I determined if ask posts created at a certain time are more liekly to attract comments. i used the following steps to perform this analysis:\n",
    "\n",
    "* Calculate the amount of ask posts created in each hour of the day, along with the number of comments received\n",
    "\n",
    "* calculate the average number of comments ask posts receive by hour created\n"
   ]
  },
  {
   "cell_type": "markdown",
   "metadata": {},
   "source": [
    "**Part three**\n",
    "\n",
    "I calculated the amount of ask posts and comments by hour created. In order to do this, I created a result_list. The result_list is a list which contains the sting dates and comment for each item in ask_post. The string dates in the result_list were converted to datetime. This was done by using the **datetime.strptime().strftime()** constructor to change the string dates to datetime objects.The counts_by_hour was created to store the frequency of each datetime in the result_list and the comments_by_hour was created to to store the total comments made based on the datetime."
   ]
  },
  {
   "cell_type": "code",
   "execution_count": 174,
   "metadata": {},
   "outputs": [],
   "source": [
    "result_list=[]\n",
    "import datetime as dt\n",
    "for items in ask_post:\n",
    "    created_at=items[6]\n",
    "    comment=int(items[4])\n",
    "    result_list.append([created_at,comment])\n",
    "\n",
    "counts_by_hour={}\n",
    "comments_by_hour={}\n",
    "for items in result_list:\n",
    "    date=items[0]\n",
    "    comment=items[1]\n",
    "    time=dt.datetime.strptime(date,'%m/%d/%Y %H:%M').strftime('%H')\n",
    "    if time in counts_by_hour:\n",
    "        counts_by_hour[time]+=1\n",
    "        comments_by_hour[time]+=comment\n",
    "    else:\n",
    "        counts_by_hour[time]=1\n",
    "        comments_by_hour[time]=comment\n"
   ]
  },
  {
   "cell_type": "markdown",
   "metadata": {},
   "source": [
    "# Average comments per hour\n",
    "\n",
    "The average number of comments for posts created during each hour of the day was calculated and the result was stored in a list of list named avg_by_hour. This was done by dividing by the comments per hour by the frequency of the hours for the comments"
   ]
  },
  {
   "cell_type": "code",
   "execution_count": 175,
   "metadata": {},
   "outputs": [
    {
     "data": {
      "text/plain": [
       "[['04', 7],\n",
       " ['02', 23],\n",
       " ['03', 7],\n",
       " ['00', 8],\n",
       " ['01', 11],\n",
       " ['06', 9],\n",
       " ['21', 16],\n",
       " ['22', 6],\n",
       " ['23', 7],\n",
       " ['08', 10],\n",
       " ['09', 5],\n",
       " ['20', 21],\n",
       " ['07', 7],\n",
       " ['11', 11],\n",
       " ['10', 13],\n",
       " ['13', 14],\n",
       " ['12', 9],\n",
       " ['15', 38],\n",
       " ['14', 13],\n",
       " ['17', 11],\n",
       " ['16', 16],\n",
       " ['19', 10],\n",
       " ['18', 13],\n",
       " ['05', 10]]"
      ]
     },
     "execution_count": 175,
     "metadata": {},
     "output_type": "execute_result"
    }
   ],
   "source": [
    "avg_by_hour=[]\n",
    "for items in comments_by_hour:\n",
    "    avg_by_hour.append([items,comments_by_hour[items]/counts_by_hour[items]])\n",
    "avg_by_hour"
   ]
  },
  {
   "cell_type": "markdown",
   "metadata": {},
   "source": [
    "# Sorting of the hours\n",
    "\n",
    "Although, I have the result i needed, the format makes it hard to identify the hours with the highest values. I decided to sort the avg_by_hour list and printing it in descending order which would make it easier to read. In order to do this, I created a swap_avg_by_hour list which stored the data from the highest values to the lowest values"
   ]
  },
  {
   "cell_type": "code",
   "execution_count": 176,
   "metadata": {},
   "outputs": [
    {
     "data": {
      "text/plain": [
       "[[38, '15'],\n",
       " [23, '02'],\n",
       " [21, '20'],\n",
       " [16, '21'],\n",
       " [16, '16'],\n",
       " [14, '13'],\n",
       " [13, '18'],\n",
       " [13, '14'],\n",
       " [13, '10'],\n",
       " [11, '17'],\n",
       " [11, '11'],\n",
       " [11, '01'],\n",
       " [10, '19'],\n",
       " [10, '08'],\n",
       " [10, '05'],\n",
       " [9, '12'],\n",
       " [9, '06'],\n",
       " [8, '00'],\n",
       " [7, '23'],\n",
       " [7, '07'],\n",
       " [7, '04'],\n",
       " [7, '03'],\n",
       " [6, '22'],\n",
       " [5, '09']]"
      ]
     },
     "execution_count": 176,
     "metadata": {},
     "output_type": "execute_result"
    }
   ],
   "source": [
    "swap_avg_by_hour=[]\n",
    "sorted_swap=[]\n",
    "for items in avg_by_hour:\n",
    "    frequency=items[1]\n",
    "    hour=items[0]\n",
    "    swap_avg_by_hour.append([frequency,hour])\n",
    "sorted_swap=sorted(swap_avg_by_hour, reverse=True)\n",
    "sorted_swap"
   ]
  },
  {
   "cell_type": "markdown",
   "metadata": {},
   "source": [
    "# sort the values and print the 5 hours with the highest average comments\n",
    "\n",
    "\n",
    "The hour that received the most comments per post on average is 15:00, with an average of 38.00 comments per post. There's about about a 60% increase in the number of comments between the hours with the highest and second highest average number of comments"
   ]
  },
  {
   "cell_type": "code",
   "execution_count": 183,
   "metadata": {},
   "outputs": [
    {
     "name": "stdout",
     "output_type": "stream",
     "text": [
      "15:00: 38.00 average comments per post\n",
      "02:00: 23.00 average comments per post\n",
      "20:00: 21.00 average comments per post\n",
      "21:00: 16.00 average comments per post\n",
      "16:00: 16.00 average comments per post\n"
     ]
    }
   ],
   "source": [
    "for items in sorted_swap[:5]:\n",
    "    avg_hour=str(items[1])\n",
    "    complement=items[0]\n",
    "    print '{}: {:.2f} average comments per post'.format(dt.datetime.strptime(avg_hour,'%H').strftime('%H:%M'),complement)"
   ]
  },
  {
   "cell_type": "markdown",
   "metadata": {},
   "source": [
    "# Conclusion"
   ]
  },
  {
   "cell_type": "markdown",
   "metadata": {},
   "source": [
    "In this project, I analyzed ask post and show posts to determine which type of post and time receive the most comments on average. Based on the analysis, to maximize the amount of comments a post receives, I would recommend the post be categorized as ask post between 15:00 and 16:00.\n",
    "\n",
    "However, it should be noted that the data analyzed excluded posts without any comments. Given that, it is more accurate to say that of the posts that received comments, ask post received more comments on average and ask post created between 15:00 and 16:00 received the most common on average\n",
    "        \n",
    "        \n",
    "        "
   ]
  },
  {
   "cell_type": "markdown",
   "metadata": {},
   "source": []
  }
 ],
 "metadata": {
  "kernelspec": {
   "display_name": "Python 3",
   "language": "python",
   "name": "python3"
  },
  "language_info": {
   "codemirror_mode": {
    "name": "ipython",
    "version": 3
   },
   "file_extension": ".py",
   "mimetype": "text/x-python",
   "name": "python",
   "nbconvert_exporter": "python",
   "pygments_lexer": "ipython3",
   "version": "3.7.0"
  }
 },
 "nbformat": 4,
 "nbformat_minor": 2
}
